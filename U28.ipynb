{
 "cells": [
  {
   "cell_type": "code",
   "execution_count": 1,
   "id": "baf652a8",
   "metadata": {},
   "outputs": [],
   "source": [
    "d={\"ineuron\":{\"a\":14,\"b\":10,\"c\":4},\"course\":{\"d\":45,\"e\":34,\"f\":1},\"g\":34,\"h\":[45,6,7,8,9,3],\"i\":(45,34,2),\"k\":\"sudh\"}"
   ]
  },
  {
   "cell_type": "code",
   "execution_count": 2,
   "id": "e4ff5933",
   "metadata": {},
   "outputs": [
    {
     "name": "stdout",
     "output_type": "stream",
     "text": [
      "45\n"
     ]
    }
   ],
   "source": [
    "l=[]\n",
    "for i in d.values():\n",
    "    if(type(i)==dict):\n",
    "        for j in i.values():\n",
    "            l.append(j)\n",
    "    elif(type(i)==list or type(i)==tuple or type(i)==set):\n",
    "        for k in i:\n",
    "            l.append(k)\n",
    "    elif(type(i)==int or type(i)==float):\n",
    "        l.append(i)\n",
    "print(max(l))"
   ]
  },
  {
   "cell_type": "code",
   "execution_count": 9,
   "id": "aa8c2c3c",
   "metadata": {},
   "outputs": [
    {
     "name": "stdout",
     "output_type": "stream",
     "text": [
      "45\n"
     ]
    }
   ],
   "source": [
    "l1=[]\n",
    "for a in d.values():\n",
    "    if(type(a)==dict):\n",
    "        l1.append(max(a.values()))\n",
    "    elif(type(a)==list or type(a)==tuple or type(a)==set):\n",
    "         l1.append(max(a))\n",
    "    elif(type(a)==int or type(a)==float):\n",
    "         l1.append(a)\n",
    "    else:\n",
    "        pass\n",
    "print(max(l1))\n",
    "        "
   ]
  },
  {
   "cell_type": "code",
   "execution_count": null,
   "id": "70301d1f",
   "metadata": {},
   "outputs": [],
   "source": []
  }
 ],
 "metadata": {
  "kernelspec": {
   "display_name": "Python 3 (ipykernel)",
   "language": "python",
   "name": "python3"
  },
  "language_info": {
   "codemirror_mode": {
    "name": "ipython",
    "version": 3
   },
   "file_extension": ".py",
   "mimetype": "text/x-python",
   "name": "python",
   "nbconvert_exporter": "python",
   "pygments_lexer": "ipython3",
   "version": "3.9.7"
  }
 },
 "nbformat": 4,
 "nbformat_minor": 5
}
