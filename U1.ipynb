{
 "cells": [
  {
   "cell_type": "code",
   "execution_count": 4,
   "id": "caf55f0f-aaec-42f9-8a22-7f250e9637a8",
   "metadata": {},
   "outputs": [
    {
     "name": "stdout",
     "output_type": "stream",
     "text": [
      "Jsm\n"
     ]
    }
   ],
   "source": [
    "print(\"Jsm\")"
   ]
  },
  {
   "cell_type": "code",
   "execution_count": 1,
   "id": "a718f988-3fe4-4dff-be7a-26dba20826b5",
   "metadata": {},
   "outputs": [
    {
     "name": "stdout",
     "output_type": "stream",
     "text": [
      "Enter you favorite: jsm\n",
      "jsm\n"
     ]
    }
   ],
   "source": [
    "A=input(\"Enter you favorite: \")\n",
    "print(A)"
   ]
  },
  {
   "cell_type": "code",
   "execution_count": null,
   "id": "892b28ca",
   "metadata": {},
   "outputs": [],
   "source": []
  }
 ],
 "metadata": {
  "kernelspec": {
   "display_name": "Python 3 (ipykernel)",
   "language": "python",
   "name": "python3"
  },
  "language_info": {
   "codemirror_mode": {
    "name": "ipython",
    "version": 3
   },
   "file_extension": ".py",
   "mimetype": "text/x-python",
   "name": "python",
   "nbconvert_exporter": "python",
   "pygments_lexer": "ipython3",
   "version": "3.9.7"
  }
 },
 "nbformat": 4,
 "nbformat_minor": 5
}
