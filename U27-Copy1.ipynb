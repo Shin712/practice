{
 "cells": [
  {
   "cell_type": "code",
   "execution_count": 1,
   "id": "b99cf52b",
   "metadata": {},
   "outputs": [],
   "source": [
    "d_1={\"Ineuron\":{\"a\":14,\"b\":10,\"c\":4},\"Course\":{'d':45,'e':34,'f':1}}"
   ]
  },
  {
   "cell_type": "code",
   "execution_count": 20,
   "id": "659e0eda",
   "metadata": {},
   "outputs": [
    {
     "name": "stdout",
     "output_type": "stream",
     "text": [
      "14\n",
      "45\n"
     ]
    }
   ],
   "source": [
    "for key in d_1.values():\n",
    "    print(max(key.values()))"
   ]
  },
  {
   "cell_type": "code",
   "execution_count": null,
   "id": "4d50fd55",
   "metadata": {},
   "outputs": [],
   "source": []
  },
  {
   "cell_type": "code",
   "execution_count": null,
   "id": "64aa67c7",
   "metadata": {},
   "outputs": [],
   "source": []
  }
 ],
 "metadata": {
  "kernelspec": {
   "display_name": "Python 3 (ipykernel)",
   "language": "python",
   "name": "python3"
  },
  "language_info": {
   "codemirror_mode": {
    "name": "ipython",
    "version": 3
   },
   "file_extension": ".py",
   "mimetype": "text/x-python",
   "name": "python",
   "nbconvert_exporter": "python",
   "pygments_lexer": "ipython3",
   "version": "3.9.7"
  }
 },
 "nbformat": 4,
 "nbformat_minor": 5
}
