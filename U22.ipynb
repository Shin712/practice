{
 "cells": [
  {
   "cell_type": "code",
   "execution_count": 7,
   "id": "b0755902",
   "metadata": {},
   "outputs": [],
   "source": [
    "s=\"This is my python class\"\n",
    "s1=\"AaEeIiOoUu\""
   ]
  },
  {
   "cell_type": "code",
   "execution_count": 2,
   "id": "597d9b65",
   "metadata": {},
   "outputs": [],
   "source": [
    "l=list(s)"
   ]
  },
  {
   "cell_type": "code",
   "execution_count": 13,
   "id": "b16e856a",
   "metadata": {},
   "outputs": [],
   "source": [
    "l1=list(s1)\n",
    "final=[]"
   ]
  },
  {
   "cell_type": "code",
   "execution_count": 14,
   "id": "f4dfb46e",
   "metadata": {},
   "outputs": [
    {
     "name": "stdout",
     "output_type": "stream",
     "text": [
      "{'u', 'I', 'e', 'o'}\n"
     ]
    }
   ],
   "source": [
    "for i in l:\n",
    "    for j in l1:\n",
    "        if(i==j):\n",
    "            final.append(i)\n",
    "print(set(final))\n",
    "                "
   ]
  },
  {
   "cell_type": "code",
   "execution_count": 22,
   "id": "85266667",
   "metadata": {},
   "outputs": [
    {
     "name": "stdout",
     "output_type": "stream",
     "text": [
      "Enter the string: abc\n",
      "The given string is not palindrome\n"
     ]
    }
   ],
   "source": [
    "a=input(\"Enter the string: \")\n",
    "b=a[::-1]\n",
    "if(a==b):\n",
    "   print(\"The given string is palindrome\")\n",
    "else:\n",
    "   print(\"The given string is not palindrome\")"
   ]
  },
  {
   "cell_type": "code",
   "execution_count": null,
   "id": "39bf2408",
   "metadata": {},
   "outputs": [],
   "source": []
  }
 ],
 "metadata": {
  "kernelspec": {
   "display_name": "Python 3 (ipykernel)",
   "language": "python",
   "name": "python3"
  },
  "language_info": {
   "codemirror_mode": {
    "name": "ipython",
    "version": 3
   },
   "file_extension": ".py",
   "mimetype": "text/x-python",
   "name": "python",
   "nbconvert_exporter": "python",
   "pygments_lexer": "ipython3",
   "version": "3.9.7"
  }
 },
 "nbformat": 4,
 "nbformat_minor": 5
}
