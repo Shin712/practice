{
 "cells": [
  {
   "cell_type": "code",
   "execution_count": 5,
   "id": "165b68a9",
   "metadata": {},
   "outputs": [
    {
     "name": "stdout",
     "output_type": "stream",
     "text": [
      "Enter the string to check: Malayalam\n",
      "Palindrome\n"
     ]
    }
   ],
   "source": [
    "s=input(\"Enter the string to check: \")\n",
    "s=s.lower()\n",
    "s1=s[::-1]\n",
    "if(s==s1):\n",
    "    print(\"Palindrome\")\n",
    "else:\n",
    "    print(\"not palindrome\")\n",
    "        "
   ]
  },
  {
   "cell_type": "code",
   "execution_count": null,
   "id": "b30813e1",
   "metadata": {},
   "outputs": [],
   "source": [
    "s2=input(\"Enter the string to check: \")\n",
    "s=s.lower()\n",
    "a=\"False\"\n",
    "for i in range(0,len(s)):\n",
    "    s3="
   ]
  }
 ],
 "metadata": {
  "kernelspec": {
   "display_name": "Python 3 (ipykernel)",
   "language": "python",
   "name": "python3"
  },
  "language_info": {
   "codemirror_mode": {
    "name": "ipython",
    "version": 3
   },
   "file_extension": ".py",
   "mimetype": "text/x-python",
   "name": "python",
   "nbconvert_exporter": "python",
   "pygments_lexer": "ipython3",
   "version": "3.9.7"
  }
 },
 "nbformat": 4,
 "nbformat_minor": 5
}
