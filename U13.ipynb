{
 "cells": [
  {
   "cell_type": "code",
   "execution_count": 1,
   "id": "f275361f",
   "metadata": {},
   "outputs": [],
   "source": [
    "b='ineuron'"
   ]
  },
  {
   "cell_type": "code",
   "execution_count": 2,
   "id": "19e05226",
   "metadata": {},
   "outputs": [
    {
     "data": {
      "text/plain": [
       "''"
      ]
     },
     "execution_count": 2,
     "metadata": {},
     "output_type": "execute_result"
    }
   ],
   "source": [
    "b[-1:-4]"
   ]
  },
  {
   "cell_type": "code",
   "execution_count": 3,
   "id": "776e9984",
   "metadata": {},
   "outputs": [
    {
     "data": {
      "text/plain": [
       "'nor'"
      ]
     },
     "execution_count": 3,
     "metadata": {},
     "output_type": "execute_result"
    }
   ],
   "source": [
    "b[-1:-4:-1]"
   ]
  },
  {
   "cell_type": "code",
   "execution_count": 4,
   "id": "b9c55149",
   "metadata": {},
   "outputs": [
    {
     "data": {
      "text/plain": [
       "'nr'"
      ]
     },
     "execution_count": 4,
     "metadata": {},
     "output_type": "execute_result"
    }
   ],
   "source": [
    "b[-1:-5:-2]"
   ]
  },
  {
   "cell_type": "code",
   "execution_count": null,
   "id": "58cb3d72",
   "metadata": {},
   "outputs": [],
   "source": []
  }
 ],
 "metadata": {
  "kernelspec": {
   "display_name": "Python 3 (ipykernel)",
   "language": "python",
   "name": "python3"
  },
  "language_info": {
   "codemirror_mode": {
    "name": "ipython",
    "version": 3
   },
   "file_extension": ".py",
   "mimetype": "text/x-python",
   "name": "python",
   "nbconvert_exporter": "python",
   "pygments_lexer": "ipython3",
   "version": "3.9.7"
  }
 },
 "nbformat": 4,
 "nbformat_minor": 5
}
