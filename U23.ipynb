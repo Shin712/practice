{
 "cells": [
  {
   "cell_type": "code",
   "execution_count": 3,
   "id": "308389a9",
   "metadata": {},
   "outputs": [
    {
     "name": "stdout",
     "output_type": "stream",
     "text": [
      "Enter the string to check: yes\n",
      "not palindrome\n",
      "not palindrome\n"
     ]
    }
   ],
   "source": [
    "S= input(\"Enter the string to check: \")\n",
    "S1=S[::-1]\n",
    "for i in range(0,len(S)-1):\n",
    "    if(S[i]==S[i-1]):\n",
    "        print(\"Palindrome\")\n",
    "    else:\n",
    "        print(\"not palindrome\")"
   ]
  },
  {
   "cell_type": "code",
   "execution_count": null,
   "id": "25aadc55",
   "metadata": {},
   "outputs": [],
   "source": []
  }
 ],
 "metadata": {
  "kernelspec": {
   "display_name": "Python 3 (ipykernel)",
   "language": "python",
   "name": "python3"
  },
  "language_info": {
   "codemirror_mode": {
    "name": "ipython",
    "version": 3
   },
   "file_extension": ".py",
   "mimetype": "text/x-python",
   "name": "python",
   "nbconvert_exporter": "python",
   "pygments_lexer": "ipython3",
   "version": "3.9.7"
  }
 },
 "nbformat": 4,
 "nbformat_minor": 5
}
