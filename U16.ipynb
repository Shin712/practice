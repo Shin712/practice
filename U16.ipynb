{
 "cells": [
  {
   "cell_type": "code",
   "execution_count": 1,
   "id": "d1a4f890",
   "metadata": {},
   "outputs": [],
   "source": [
    "l=[6,True,5.3,4+9j,'abc']"
   ]
  },
  {
   "cell_type": "code",
   "execution_count": 4,
   "id": "2d777f14",
   "metadata": {},
   "outputs": [
    {
     "name": "stdout",
     "output_type": "stream",
     "text": [
      "Type of  6 is  <class 'int'>\n",
      "Type of  True is  <class 'bool'>\n",
      "Type of  5.3 is  <class 'float'>\n",
      "Type of  (4+9j) is  <class 'complex'>\n",
      "Type of  abc is  <class 'str'>\n"
     ]
    }
   ],
   "source": [
    "for i in l:\n",
    "    print(\"Type of \",i,\"is \",type(i))"
   ]
  },
  {
   "cell_type": "code",
   "execution_count": 5,
   "id": "191ced76",
   "metadata": {},
   "outputs": [],
   "source": [
    "l1=[1,2,8,6.4,9]"
   ]
  },
  {
   "cell_type": "code",
   "execution_count": 15,
   "id": "99042e64",
   "metadata": {},
   "outputs": [
    {
     "name": "stdout",
     "output_type": "stream",
     "text": [
      "[3, 4, 10, 8.4, 11]\n"
     ]
    }
   ],
   "source": [
    "l2=[]\n",
    "for i in l1:\n",
    "    l2.append(i+2)   \n",
    "print(l2)"
   ]
  },
  {
   "cell_type": "code",
   "execution_count": 16,
   "id": "2ccc355a",
   "metadata": {},
   "outputs": [],
   "source": [
    "l3=[2,45,78,12,\"sudh\",6+7j,[56,67,78]]"
   ]
  },
  {
   "cell_type": "code",
   "execution_count": 18,
   "id": "7f7b23a9",
   "metadata": {},
   "outputs": [
    {
     "name": "stdout",
     "output_type": "stream",
     "text": [
      "2\n",
      "45\n",
      "78\n",
      "12\n"
     ]
    }
   ],
   "source": [
    "for i in l3 :\n",
    "    if(type(i)==int):\n",
    "        print(i)"
   ]
  },
  {
   "cell_type": "code",
   "execution_count": null,
   "id": "a172e75d",
   "metadata": {},
   "outputs": [],
   "source": []
  }
 ],
 "metadata": {
  "kernelspec": {
   "display_name": "Python 3 (ipykernel)",
   "language": "python",
   "name": "python3"
  },
  "language_info": {
   "codemirror_mode": {
    "name": "ipython",
    "version": 3
   },
   "file_extension": ".py",
   "mimetype": "text/x-python",
   "name": "python",
   "nbconvert_exporter": "python",
   "pygments_lexer": "ipython3",
   "version": "3.9.7"
  }
 },
 "nbformat": 4,
 "nbformat_minor": 5
}
