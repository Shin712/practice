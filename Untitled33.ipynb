{
 "cells": [
  {
   "cell_type": "markdown",
   "id": "7262487b",
   "metadata": {},
   "source": [
    "# 6.Write a function which will be able to take a list as an input return the index of each element like an inbuilt index function but even if we have repetitive element i should return index "
   ]
  },
  {
   "cell_type": "code",
   "execution_count": 14,
   "id": "cafb459f",
   "metadata": {},
   "outputs": [
    {
     "name": "stdout",
     "output_type": "stream",
     "text": [
      "Enter the list: abcabc\n",
      "Enter the element for which the index has to be given: b\n",
      "1\n",
      "4\n"
     ]
    }
   ],
   "source": [
    "l=[]\n",
    "l=list(input(\"Enter the list: \"))\n",
    "a=input(\"Enter the element for which the index has to be given: \")\n",
    "def li(x,y):\n",
    "    count=0\n",
    "    for i in x:\n",
    "        if(i==y):\n",
    "            print(count)\n",
    "        count+=1\n",
    "li(l,a)\n",
    "        "
   ]
  },
  {
   "cell_type": "code",
   "execution_count": null,
   "id": "6a07ec13",
   "metadata": {},
   "outputs": [],
   "source": [
    "7.write a function which will show date and time"
   ]
  }
 ],
 "metadata": {
  "kernelspec": {
   "display_name": "Python 3 (ipykernel)",
   "language": "python",
   "name": "python3"
  },
  "language_info": {
   "codemirror_mode": {
    "name": "ipython",
    "version": 3
   },
   "file_extension": ".py",
   "mimetype": "text/x-python",
   "name": "python",
   "nbconvert_exporter": "python",
   "pygments_lexer": "ipython3",
   "version": "3.9.7"
  }
 },
 "nbformat": 4,
 "nbformat_minor": 5
}
