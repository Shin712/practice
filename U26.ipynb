{
 "cells": [
  {
   "cell_type": "code",
   "execution_count": 1,
   "id": "1a7749c4",
   "metadata": {},
   "outputs": [],
   "source": [
    "d={\"india\":\"IN\",\"canada\":\"CA\",\"china\":\"CH\",\"united states\":\"US\"}"
   ]
  },
  {
   "cell_type": "code",
   "execution_count": 2,
   "id": "c5e94e48",
   "metadata": {},
   "outputs": [
    {
     "data": {
      "text/plain": [
       "dict"
      ]
     },
     "execution_count": 2,
     "metadata": {},
     "output_type": "execute_result"
    }
   ],
   "source": [
    "type(d)"
   ]
  },
  {
   "cell_type": "code",
   "execution_count": 9,
   "id": "aadf7843",
   "metadata": {},
   "outputs": [
    {
     "name": "stdout",
     "output_type": "stream",
     "text": [
      "['canada', 'united states'] ['india', 'china']\n"
     ]
    }
   ],
   "source": [
    "L1=[]\n",
    "L2=[]\n",
    "for i in d:\n",
    "    if(len(i)>5):\n",
    "        L1.append(i)\n",
    "    else:\n",
    "        L2.append(i)\n",
    "print(L1,L2)\n",
    "        "
   ]
  },
  {
   "cell_type": "code",
   "execution_count": null,
   "id": "10569034",
   "metadata": {},
   "outputs": [],
   "source": []
  }
 ],
 "metadata": {
  "kernelspec": {
   "display_name": "Python 3 (ipykernel)",
   "language": "python",
   "name": "python3"
  },
  "language_info": {
   "codemirror_mode": {
    "name": "ipython",
    "version": 3
   },
   "file_extension": ".py",
   "mimetype": "text/x-python",
   "name": "python",
   "nbconvert_exporter": "python",
   "pygments_lexer": "ipython3",
   "version": "3.9.7"
  }
 },
 "nbformat": 4,
 "nbformat_minor": 5
}
