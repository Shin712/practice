{
 "cells": [
  {
   "cell_type": "markdown",
   "id": "66772a3b",
   "metadata": {},
   "source": [
    "# 1.Write a function which will take a string as input and return length of it without using the function len"
   ]
  },
  {
   "cell_type": "code",
   "execution_count": 10,
   "id": "7685eb24",
   "metadata": {},
   "outputs": [
    {
     "name": "stdout",
     "output_type": "stream",
     "text": [
      "Enter the string: string\n",
      "6\n"
     ]
    }
   ],
   "source": [
    "s=input(\"Enter the string: \")\n",
    "counter=0\n",
    "for i in s:\n",
    "    counter+=1\n",
    "print(counter)\n",
    "    "
   ]
  },
  {
   "cell_type": "markdown",
   "id": "21454ced",
   "metadata": {},
   "source": [
    "# 2. Write a function which will be able to print an index of all primitive elements which you will pass"
   ]
  },
  {
   "cell_type": "code",
   "execution_count": 2,
   "id": "b20468f0",
   "metadata": {},
   "outputs": [
    {
     "name": "stdout",
     "output_type": "stream",
     "text": [
      "Enter the string: string\n",
      "The index of  s is : 0\n",
      "The index of  t is : 1\n",
      "The index of  r is : 2\n",
      "The index of  i is : 3\n",
      "The index of  n is : 4\n",
      "The index of  g is : 5\n"
     ]
    }
   ],
   "source": [
    "s1=input(\"Enter the string: \")\n",
    "for i in range(0,len(s1)):\n",
    "    print(\"The index of \",s1[i],\"is :\",i)"
   ]
  },
  {
   "cell_type": "markdown",
   "id": "938369bc",
   "metadata": {},
   "source": [
    "# 4.write a function which will take another function as an input and return me an output"
   ]
  },
  {
   "cell_type": "code",
   "execution_count": 24,
   "id": "1e05c900",
   "metadata": {},
   "outputs": [
    {
     "name": "stdout",
     "output_type": "stream",
     "text": [
      "Enter the first number: 12\n",
      "Enter the second number: 3\n",
      "Enter the operation: /\n"
     ]
    },
    {
     "data": {
      "text/plain": [
       "4.0"
      ]
     },
     "execution_count": 24,
     "metadata": {},
     "output_type": "execute_result"
    }
   ],
   "source": [
    "def sum1(a,b):\n",
    "    return a+b\n",
    "def diff(c,d):\n",
    "    return c-d\n",
    "def mul(e,f):\n",
    "    return e*f\n",
    "def div(g,h):\n",
    "p=int(input(\"Enter the first number: \"))\n",
    "q=int(input(\"Enter the second number: \"))\n",
    "oper=input(\"Enter the operation: \")\n",
    "if(oper=='+'):\n",
    "    sum1(p,q)\n",
    "elif(oper=='-'):\n",
    "    calculator(x,y,diff(a,b))\n",
    "elif(oper=='*'):    \n",
    "    calculator(x,y,mul(a,b))\n",
    "elif(oper=='/'):    \n",
    "    calculator(x,y,div(a,b))\n",
    "else:\n",
    "    print(\"invalid input\")"
   ]
  },
  {
   "cell_type": "markdown",
   "id": "0cacc54a",
   "metadata": {},
   "source": [
    "# 5.Write a function which will take list as an input and give concat of all elements as output"
   ]
  },
  {
   "cell_type": "code",
   "execution_count": 35,
   "id": "c8619141",
   "metadata": {},
   "outputs": [
    {
     "name": "stdout",
     "output_type": "stream",
     "text": [
      "Enter the number of lists you want to give: 3\n",
      "Enter the list: 123\n",
      "Enter the list: 456\n",
      "Enter the list: 789\n"
     ]
    },
    {
     "data": {
      "text/plain": [
       "['1', '2', '3', '4', '5', '6', '7', '8', '9']"
      ]
     },
     "execution_count": 35,
     "metadata": {},
     "output_type": "execute_result"
    }
   ],
   "source": [
    "l=[]\n",
    "def li(n1):\n",
    "    for j in range(1,n1+1):\n",
    "        a=list(input(\"Enter the list: \"))\n",
    "        for i in a:\n",
    "            l.append(i)\n",
    "    return l\n",
    "n=int(input(\"Enter the number of lists you want to give: \"))\n",
    "li(n)"
   ]
  },
  {
   "cell_type": "code",
   "execution_count": null,
   "id": "4449e02d",
   "metadata": {},
   "outputs": [],
   "source": []
  },
  {
   "cell_type": "code",
   "execution_count": null,
   "id": "a241634f",
   "metadata": {},
   "outputs": [],
   "source": []
  },
  {
   "cell_type": "code",
   "execution_count": null,
   "id": "1fcaef5f",
   "metadata": {},
   "outputs": [],
   "source": []
  }
 ],
 "metadata": {
  "kernelspec": {
   "display_name": "Python 3 (ipykernel)",
   "language": "python",
   "name": "python3"
  },
  "language_info": {
   "codemirror_mode": {
    "name": "ipython",
    "version": 3
   },
   "file_extension": ".py",
   "mimetype": "text/x-python",
   "name": "python",
   "nbconvert_exporter": "python",
   "pygments_lexer": "ipython3",
   "version": "3.9.7"
  }
 },
 "nbformat": 4,
 "nbformat_minor": 5
}
