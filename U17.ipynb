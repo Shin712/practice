{
 "cells": [
  {
   "cell_type": "code",
   "execution_count": 32,
   "id": "a5b6fa12",
   "metadata": {},
   "outputs": [],
   "source": [
    "l=[2,45,78,12,'sudh',\"kumar\",6+7j,[56,67,78,'fsds']]"
   ]
  },
  {
   "cell_type": "code",
   "execution_count": 33,
   "id": "da5acc9e",
   "metadata": {},
   "outputs": [
    {
     "name": "stdout",
     "output_type": "stream",
     "text": [
      "The index of  2  is  0\n",
      "The index of  45  is  1\n",
      "The index of  78  is  2\n",
      "The index of  12  is  3\n",
      "The index of  sudh  is  4\n",
      "The index of  kumar  is  5\n",
      "The index of  (6+7j)  is  6\n",
      "The index of  [56, 67, 78, 'fsds']  is  7\n"
     ]
    }
   ],
   "source": [
    "for i in range(len(l)):\n",
    "    print(\"The index of \",l[i],\" is \",i)"
   ]
  },
  {
   "cell_type": "code",
   "execution_count": 26,
   "id": "0ccfe533",
   "metadata": {},
   "outputs": [
    {
     "name": "stdout",
     "output_type": "stream",
     "text": [
      "['s', 'u', 'd', 'h']\n",
      "['k', 'u', 'm', 'a', 'r']\n",
      "['f', 's', 'd', 's']\n"
     ]
    }
   ],
   "source": [
    "for i in l:\n",
    "    if(type(i)==str):\n",
    "        l5=[]\n",
    "        for j in i:\n",
    "            l5.append(j)\n",
    "        print(l5)\n",
    "    elif(type(i)==list):\n",
    "        l5=[]\n",
    "        for j in i:\n",
    "            if(type(j)==str):\n",
    "                for k in j:\n",
    "                    l5.append(k)\n",
    "                print(l5)"
   ]
  },
  {
   "cell_type": "code",
   "execution_count": 25,
   "id": "e2dd0c2d",
   "metadata": {},
   "outputs": [
    {
     "name": "stdout",
     "output_type": "stream",
     "text": [
      "[4, 2025, 6084, 144, 3136, 4489, 6084]\n"
     ]
    }
   ],
   "source": [
    "l1=[]\n",
    "for i in l:\n",
    "    if(type(i)==int):\n",
    "        l1.append(i*i)\n",
    "    elif(type(i)==list or type(i)==set or type(i)==dict):\n",
    "        for j in i:\n",
    "            if(type(j)==int):\n",
    "                l1.append(j*j)\n",
    "print(l1)\n",
    "            "
   ]
  },
  {
   "cell_type": "code",
   "execution_count": null,
   "id": "6a81725d",
   "metadata": {},
   "outputs": [],
   "source": []
  }
 ],
 "metadata": {
  "kernelspec": {
   "display_name": "Python 3 (ipykernel)",
   "language": "python",
   "name": "python3"
  },
  "language_info": {
   "codemirror_mode": {
    "name": "ipython",
    "version": 3
   },
   "file_extension": ".py",
   "mimetype": "text/x-python",
   "name": "python",
   "nbconvert_exporter": "python",
   "pygments_lexer": "ipython3",
   "version": "3.9.7"
  }
 },
 "nbformat": 4,
 "nbformat_minor": 5
}
